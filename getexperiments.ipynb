{
 "cells": [
  {
   "cell_type": "code",
   "execution_count": 1,
   "metadata": {},
   "outputs": [
    {
     "data": {
      "text/plain": [
       "['conv_numfilters-4-8-16',\n",
       " 'batchnorm',\n",
       " 'avgpool2d-2-firstlayers',\n",
       " 'conv_numfilters-8-12-24',\n",
       " 'dropout-after-relu-and-sequential',\n",
       " 'batchnorm+dropout-all',\n",
       " 'bathnorm+seqdropout',\n",
       " 'dropout-only-sequential',\n",
       " 'conv_3-3-3',\n",
       " 'conv_7-5-5',\n",
       " 'conv_5-3-3',\n",
       " '5_kernel',\n",
       " 'conv_7-7-7',\n",
       " 'conv_7-3-3',\n",
       " 'max-pool-everywhere',\n",
       " 'avgpool2d-6',\n",
       " 'avgpool2d-4',\n",
       " 'maxpool-4',\n",
       " 'one-deeper',\n",
       " 'initial']"
      ]
     },
     "execution_count": 1,
     "metadata": {},
     "output_type": "execute_result"
    }
   ],
   "source": [
    "import os\n",
    "import re\n",
    "os.system(\"dvc exp list -A > experiment_names.txt\")\n",
    "\n",
    "with open('experiment_names.txt', 'r') as fp:\n",
    "    data = fp.read()\n",
    "\n",
    "experiment_names = re.findall('\\[(.*?)\\]', data)\n",
    "experiment_names"
   ]
  },
  {
   "cell_type": "code",
   "execution_count": 23,
   "metadata": {},
   "outputs": [
    {
     "name": "stderr",
     "output_type": "stream",
     "text": [
      "  0%|          | 0/20 [00:00<?, ?it/s]"
     ]
    },
    {
     "name": "stdout",
     "output_type": "stream",
     "text": [
      "max-pool-everywhere\n",
      "Changes for experiment 'max-pool-everywhere' have been applied to your current workspace.\n"
     ]
    },
    {
     "name": "stderr",
     "output_type": "stream",
     "text": [
      "  5%|▌         | 1/20 [00:02<00:56,  2.96s/it]"
     ]
    },
    {
     "name": "stdout",
     "output_type": "stream",
     "text": [
      "maxpool-4\n",
      "Changes for experiment 'maxpool-4' have been applied to your current workspace.\n"
     ]
    },
    {
     "name": "stderr",
     "output_type": "stream",
     "text": [
      " 10%|█         | 2/20 [00:06<00:54,  3.05s/it]"
     ]
    },
    {
     "name": "stdout",
     "output_type": "stream",
     "text": [
      "avgpool2d-6\n",
      "Changes for experiment 'avgpool2d-6' have been applied to your current workspace.\n"
     ]
    },
    {
     "name": "stderr",
     "output_type": "stream",
     "text": [
      " 15%|█▌        | 3/20 [00:09<00:51,  3.06s/it]"
     ]
    },
    {
     "name": "stdout",
     "output_type": "stream",
     "text": [
      "one-deeper\n",
      "Changes for experiment 'one-deeper' have been applied to your current workspace.\n"
     ]
    },
    {
     "name": "stderr",
     "output_type": "stream",
     "text": [
      " 20%|██        | 4/20 [00:12<00:49,  3.07s/it]"
     ]
    },
    {
     "name": "stdout",
     "output_type": "stream",
     "text": [
      "avgpool2d-4\n",
      "Changes for experiment 'avgpool2d-4' have been applied to your current workspace.\n"
     ]
    },
    {
     "name": "stderr",
     "output_type": "stream",
     "text": [
      " 25%|██▌       | 5/20 [00:15<00:45,  3.06s/it]"
     ]
    },
    {
     "name": "stdout",
     "output_type": "stream",
     "text": [
      "avgpool2d-2-firstlayers\n",
      "Changes for experiment 'avgpool2d-2-firstlayers' have been applied to your current workspace.\n"
     ]
    },
    {
     "name": "stderr",
     "output_type": "stream",
     "text": [
      " 30%|███       | 6/20 [00:18<00:43,  3.10s/it]"
     ]
    },
    {
     "name": "stdout",
     "output_type": "stream",
     "text": [
      "bathnorm+seqdropout\n",
      "Changes for experiment 'bathnorm+seqdropout' have been applied to your current workspace.\n"
     ]
    },
    {
     "name": "stderr",
     "output_type": "stream",
     "text": [
      " 35%|███▌      | 7/20 [00:21<00:40,  3.09s/it]"
     ]
    },
    {
     "name": "stdout",
     "output_type": "stream",
     "text": [
      "dropout-only-sequential\n",
      "Changes for experiment 'dropout-only-sequential' have been applied to your current workspace.\n"
     ]
    },
    {
     "name": "stderr",
     "output_type": "stream",
     "text": [
      " 40%|████      | 8/20 [00:24<00:37,  3.10s/it]"
     ]
    },
    {
     "name": "stdout",
     "output_type": "stream",
     "text": [
      "batchnorm+dropout-all\n",
      "Changes for experiment 'batchnorm+dropout-all' have been applied to your current workspace.\n"
     ]
    },
    {
     "name": "stderr",
     "output_type": "stream",
     "text": [
      " 45%|████▌     | 9/20 [00:27<00:34,  3.11s/it]"
     ]
    },
    {
     "name": "stdout",
     "output_type": "stream",
     "text": [
      "batchnorm\n",
      "Changes for experiment 'batchnorm' have been applied to your current workspace.\n"
     ]
    },
    {
     "name": "stderr",
     "output_type": "stream",
     "text": [
      " 50%|█████     | 10/20 [00:30<00:31,  3.11s/it]"
     ]
    },
    {
     "name": "stdout",
     "output_type": "stream",
     "text": [
      "conv_numfilters-4-8-16\n",
      "Changes for experiment 'conv_numfilters-4-8-16' have been applied to your current workspace.\n"
     ]
    },
    {
     "name": "stderr",
     "output_type": "stream",
     "text": [
      " 55%|█████▌    | 11/20 [00:33<00:27,  3.11s/it]"
     ]
    },
    {
     "name": "stdout",
     "output_type": "stream",
     "text": [
      "conv_numfilters-8-12-24\n",
      "Changes for experiment 'conv_numfilters-8-12-24' have been applied to your current workspace.\n"
     ]
    },
    {
     "name": "stderr",
     "output_type": "stream",
     "text": [
      " 60%|██████    | 12/20 [00:37<00:24,  3.09s/it]"
     ]
    },
    {
     "name": "stdout",
     "output_type": "stream",
     "text": [
      "dropout-after-relu-and-sequential\n",
      "Changes for experiment 'dropout-after-relu-and-sequential' have been applied to your current workspace.\n"
     ]
    },
    {
     "name": "stderr",
     "output_type": "stream",
     "text": [
      " 65%|██████▌   | 13/20 [00:40<00:21,  3.09s/it]"
     ]
    },
    {
     "name": "stdout",
     "output_type": "stream",
     "text": [
      "conv_5-3-3\n",
      "Changes for experiment 'conv_5-3-3' have been applied to your current workspace.\n"
     ]
    },
    {
     "name": "stderr",
     "output_type": "stream",
     "text": [
      " 70%|███████   | 14/20 [00:43<00:18,  3.10s/it]"
     ]
    },
    {
     "name": "stdout",
     "output_type": "stream",
     "text": [
      "conv_7-7-7\n",
      "Changes for experiment 'conv_7-7-7' have been applied to your current workspace.\n"
     ]
    },
    {
     "name": "stderr",
     "output_type": "stream",
     "text": [
      " 75%|███████▌  | 15/20 [00:46<00:15,  3.11s/it]"
     ]
    },
    {
     "name": "stdout",
     "output_type": "stream",
     "text": [
      "conv_7-5-5\n",
      "Changes for experiment 'conv_7-5-5' have been applied to your current workspace.\n"
     ]
    },
    {
     "name": "stderr",
     "output_type": "stream",
     "text": [
      " 80%|████████  | 16/20 [00:49<00:12,  3.11s/it]"
     ]
    },
    {
     "name": "stdout",
     "output_type": "stream",
     "text": [
      "conv_3-3-3\n",
      "Changes for experiment 'conv_3-3-3' have been applied to your current workspace.\n"
     ]
    },
    {
     "name": "stderr",
     "output_type": "stream",
     "text": [
      " 85%|████████▌ | 17/20 [00:52<00:09,  3.12s/it]"
     ]
    },
    {
     "name": "stdout",
     "output_type": "stream",
     "text": [
      "conv_7-3-3\n",
      "Changes for experiment 'conv_7-3-3' have been applied to your current workspace.\n"
     ]
    },
    {
     "name": "stderr",
     "output_type": "stream",
     "text": [
      " 90%|█████████ | 18/20 [00:55<00:06,  3.12s/it]"
     ]
    },
    {
     "name": "stdout",
     "output_type": "stream",
     "text": [
      "5_kernel\n",
      "Changes for experiment '5_kernel' have been applied to your current workspace.\n"
     ]
    },
    {
     "name": "stderr",
     "output_type": "stream",
     "text": [
      " 95%|█████████▌| 19/20 [00:58<00:03,  3.11s/it]"
     ]
    },
    {
     "name": "stdout",
     "output_type": "stream",
     "text": [
      "initial\n",
      "Changes for experiment 'initial' have been applied to your current workspace.\n"
     ]
    },
    {
     "name": "stderr",
     "output_type": "stream",
     "text": [
      "100%|██████████| 20/20 [01:02<00:00,  3.10s/it]\n"
     ]
    }
   ],
   "source": [
    "import time \n",
    "import pandas as pd\n",
    "from tqdm import tqdm\n",
    "\n",
    "training_loss_df = pd.DataFrame(columns=['step','loss','rev'])\n",
    "test_loss_df = pd.DataFrame(columns=['step','loss','rev'])\n",
    "test_accuracy_df = pd.DataFrame(columns=['step','accuracy','rev'])\n",
    "for exp_name in tqdm(experiment_names):\n",
    "    print(exp_name)\n",
    "    os.system(f\"dvc exp apply {exp_name}\")\n",
    "    time.sleep(2)\n",
    "\n",
    "    exp_train_loss_df = pd.read_csv('metrics/plots/metrics/train/loss.tsv', sep='\\t')\n",
    "    exp_test_loss_df = pd.read_csv('metrics/plots/metrics/test/loss.tsv', sep='\\t')\n",
    "    exp_test_accuracy_df = pd.read_csv('metrics/plots/metrics/test/accuracy.tsv', sep='\\t')\n",
    "\n",
    "    exp_train_loss_df['rev'] = exp_name\n",
    "    exp_test_loss_df['rev'] = exp_name\n",
    "    exp_test_accuracy_df['rev'] = exp_name\n",
    "    \n",
    "    \n",
    "    training_loss_df = pd.concat([training_loss_df, exp_train_loss_df], axis=0)\n",
    "    test_loss_df = pd.concat([test_loss_df, exp_test_loss_df], axis=0)\n",
    "    test_accuracy_df = pd.concat([test_accuracy_df, exp_test_accuracy_df], axis=0)\n",
    "    # print(training_loss_df)\n",
    "    # break \n",
    "    training_loss_df.to_csv('training_losses.csv', index=False)\n",
    "    test_loss_df.to_csv('test_losses.csv', index=False)\n",
    "    test_accuracy_df.to_csv('test_accuracies.csv', index=False)\n"
   ]
  }
 ],
 "metadata": {
  "kernelspec": {
   "display_name": "ml",
   "language": "python",
   "name": "python3"
  },
  "language_info": {
   "codemirror_mode": {
    "name": "ipython",
    "version": 3
   },
   "file_extension": ".py",
   "mimetype": "text/x-python",
   "name": "python",
   "nbconvert_exporter": "python",
   "pygments_lexer": "ipython3",
   "version": "3.11.4"
  }
 },
 "nbformat": 4,
 "nbformat_minor": 2
}
